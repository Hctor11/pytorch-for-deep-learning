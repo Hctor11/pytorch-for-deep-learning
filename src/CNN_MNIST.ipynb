{
  "nbformat": 4,
  "nbformat_minor": 0,
  "metadata": {
    "colab": {
      "provenance": [],
      "authorship_tag": "ABX9TyMzS4U/FfSlX09kefoibfRV",
      "include_colab_link": true
    },
    "kernelspec": {
      "name": "python3",
      "display_name": "Python 3"
    },
    "language_info": {
      "name": "python"
    }
  },
  "cells": [
    {
      "cell_type": "markdown",
      "metadata": {
        "id": "view-in-github",
        "colab_type": "text"
      },
      "source": [
        "<a href=\"https://colab.research.google.com/github/Hctor11/pytorch-for-deep-learning/blob/main/src/CNN_MNIST.ipynb\" target=\"_parent\"><img src=\"https://colab.research.google.com/assets/colab-badge.svg\" alt=\"Open In Colab\"/></a>"
      ]
    },
    {
      "cell_type": "code",
      "execution_count": 36,
      "metadata": {
        "id": "XoizMSYZm8dk"
      },
      "outputs": [],
      "source": [
        "import torch\n",
        "import torch.nn as nn\n",
        "import torch.nn.functional as F\n",
        "from torch.utils.data import DataLoader\n",
        "from torchvision import datasets, transforms\n",
        "from torchvision.utils import make_grid\n",
        "\n",
        "import numpy as np\n",
        "import pandas as pd\n",
        "import matplotlib.pyplot as plt\n",
        "%matplotlib inline\n",
        "\n",
        "from sklearn.metrics import confusion_matrix\n"
      ]
    },
    {
      "cell_type": "code",
      "source": [
        "# Convert MNIST images into tensors of 4 dimensions\n",
        "transform = transforms.ToTensor()"
      ],
      "metadata": {
        "id": "h_xw_2RQnlpo"
      },
      "execution_count": 37,
      "outputs": []
    },
    {
      "cell_type": "code",
      "source": [
        "# Train data\n",
        "train_data = datasets.MNIST(root='/cnn_data',train=True, download=True, transform=transform)"
      ],
      "metadata": {
        "id": "LkjU5DTYoeUi"
      },
      "execution_count": 38,
      "outputs": []
    },
    {
      "cell_type": "code",
      "source": [
        "# Test data\n",
        "test_data = datasets.MNIST(root='/cnn_data',train=False, download=True, transform=transform)"
      ],
      "metadata": {
        "id": "HCBe0tkwo0XI"
      },
      "execution_count": 39,
      "outputs": []
    },
    {
      "cell_type": "code",
      "source": [
        "# Loader for our data\n",
        "train_loader = DataLoader(train_data, batch_size=10, shuffle=True)\n",
        "test_loader = DataLoader(test_data, batch_size=10, shuffle=False)"
      ],
      "metadata": {
        "id": "Hl52LUhTo8qC"
      },
      "execution_count": 40,
      "outputs": []
    },
    {
      "cell_type": "code",
      "source": [
        "# Define our CNN model\n",
        "conv1 = nn.Conv2d(1, 6, 3, 1)\n",
        "conv2 = nn.Conv2d(6, 16, 3, 1)"
      ],
      "metadata": {
        "id": "eCxJU9K5wUFP"
      },
      "execution_count": 41,
      "outputs": []
    },
    {
      "cell_type": "code",
      "source": [
        "# Grab 1 MNIST record\n",
        "for i, (X_train, y_train) in enumerate(train_data):\n",
        "  break"
      ],
      "metadata": {
        "id": "SWrlfQkAwz3a"
      },
      "execution_count": 42,
      "outputs": []
    },
    {
      "cell_type": "code",
      "source": [
        "X_train.shape"
      ],
      "metadata": {
        "colab": {
          "base_uri": "https://localhost:8080/"
        },
        "id": "sFPIS3fxxB-3",
        "outputId": "0967e748-cce4-41f9-8d44-7bdd622a9c1e"
      },
      "execution_count": 8,
      "outputs": [
        {
          "output_type": "execute_result",
          "data": {
            "text/plain": [
              "torch.Size([1, 28, 28])"
            ]
          },
          "metadata": {},
          "execution_count": 8
        }
      ]
    },
    {
      "cell_type": "code",
      "source": [
        "x = X_train.view(1,1,28,28)"
      ],
      "metadata": {
        "id": "vPBeD_XsxLwk"
      },
      "execution_count": 43,
      "outputs": []
    },
    {
      "cell_type": "code",
      "source": [
        "# Perform out first convolution\n",
        "x = F.relu(conv1(x))"
      ],
      "metadata": {
        "id": "dk-Y-R5nxZoK"
      },
      "execution_count": 44,
      "outputs": []
    },
    {
      "cell_type": "code",
      "source": [
        "x.shape"
      ],
      "metadata": {
        "colab": {
          "base_uri": "https://localhost:8080/"
        },
        "id": "ZhA0J2_KxmUS",
        "outputId": "f5d3c978-82e1-4f5f-f161-5677884ab71d"
      },
      "execution_count": 11,
      "outputs": [
        {
          "output_type": "execute_result",
          "data": {
            "text/plain": [
              "torch.Size([1, 6, 26, 26])"
            ]
          },
          "metadata": {},
          "execution_count": 11
        }
      ]
    },
    {
      "cell_type": "code",
      "source": [
        "# passsing thru the pooling layer\n",
        "x = F.max_pool2d(x,2,2)"
      ],
      "metadata": {
        "id": "NkWv0LllyECk"
      },
      "execution_count": 45,
      "outputs": []
    },
    {
      "cell_type": "code",
      "source": [
        "x.shape"
      ],
      "metadata": {
        "colab": {
          "base_uri": "https://localhost:8080/"
        },
        "id": "1TVM9qx7yYqw",
        "outputId": "39c318f0-2376-4dda-d29e-1a995f0da5aa"
      },
      "execution_count": 13,
      "outputs": [
        {
          "output_type": "execute_result",
          "data": {
            "text/plain": [
              "torch.Size([1, 6, 13, 13])"
            ]
          },
          "metadata": {},
          "execution_count": 13
        }
      ]
    },
    {
      "cell_type": "code",
      "source": [
        "# Perform our second convolution\n",
        "x = F.relu(conv2(x))"
      ],
      "metadata": {
        "id": "yL8zSZGYykbF"
      },
      "execution_count": 46,
      "outputs": []
    },
    {
      "cell_type": "code",
      "source": [
        "x.shape"
      ],
      "metadata": {
        "colab": {
          "base_uri": "https://localhost:8080/"
        },
        "id": "Ka_XFuCoy6Vb",
        "outputId": "826e86a3-e7d2-4409-9fba-817c6c4f6f89"
      },
      "execution_count": 15,
      "outputs": [
        {
          "output_type": "execute_result",
          "data": {
            "text/plain": [
              "torch.Size([1, 16, 11, 11])"
            ]
          },
          "metadata": {},
          "execution_count": 15
        }
      ]
    },
    {
      "cell_type": "code",
      "source": [
        "# Pooling layer\n",
        "x = F.max_pool2d(x,2,2)"
      ],
      "metadata": {
        "id": "Pj4Vm8oEy8Hc"
      },
      "execution_count": 47,
      "outputs": []
    },
    {
      "cell_type": "code",
      "source": [
        "x.shape"
      ],
      "metadata": {
        "id": "kLBhPuRQzIb-",
        "outputId": "704c763b-bfa5-4d4c-aa6d-55f77eb1131f",
        "colab": {
          "base_uri": "https://localhost:8080/"
        }
      },
      "execution_count": 17,
      "outputs": [
        {
          "output_type": "execute_result",
          "data": {
            "text/plain": [
              "torch.Size([1, 16, 5, 5])"
            ]
          },
          "metadata": {},
          "execution_count": 17
        }
      ]
    },
    {
      "cell_type": "code",
      "source": [
        "# Model class\n",
        "class AwesomeConvolutionalNetwork(nn.Module):\n",
        "  def __init__(self):\n",
        "    super().__init__()\n",
        "    self.conv1 = nn.Conv2d(1, 6, 3, 1)\n",
        "    self.conv2 = nn.Conv2d(6, 16, 3, 1)\n",
        "\n",
        "    # Connection layer\n",
        "    self.fc1 = nn.Linear(5*5*16, 120)\n",
        "    self.fc2 = nn.Linear(120, 84)\n",
        "    self.fc3 = nn.Linear(84, 10)\n",
        "\n",
        "  # forward function\n",
        "  def forward(self, X):\n",
        "    X = F.relu(self.conv1(X))\n",
        "    X = F.max_pool2d(X, 2,2)\n",
        "\n",
        "    #second pass\n",
        "    X = F.relu(self.conv2(X))\n",
        "    X = F.max_pool2d(X, 2,2)\n",
        "\n",
        "    #flatten data\n",
        "    X = X.view(-1, 16*5*5)\n",
        "\n",
        "    # Fully connected layers\n",
        "    X = F.relu(self.fc1(X))\n",
        "    X = F.relu(self.fc2(X))\n",
        "    X = self.fc3(X)\n",
        "\n",
        "    return F.log_softmax(X, dim=1)"
      ],
      "metadata": {
        "id": "Mc1mXJneBmfc"
      },
      "execution_count": 61,
      "outputs": []
    },
    {
      "cell_type": "code",
      "source": [
        "# Create an instance of our function\n",
        "torch.manual_seed(41)\n",
        "Model = AwesomeConvolutionalNetwork()\n",
        "Model"
      ],
      "metadata": {
        "colab": {
          "base_uri": "https://localhost:8080/"
        },
        "id": "5wUSQxeeDnTb",
        "outputId": "2cc94f0b-7ecf-4416-86a2-931e7bb447c6"
      },
      "execution_count": 62,
      "outputs": [
        {
          "output_type": "execute_result",
          "data": {
            "text/plain": [
              "AwesomeConvolutionalNetwork(\n",
              "  (conv1): Conv2d(1, 6, kernel_size=(3, 3), stride=(1, 1))\n",
              "  (conv2): Conv2d(6, 16, kernel_size=(3, 3), stride=(1, 1))\n",
              "  (fc1): Linear(in_features=400, out_features=120, bias=True)\n",
              "  (fc2): Linear(in_features=120, out_features=84, bias=True)\n",
              "  (fc3): Linear(in_features=84, out_features=10, bias=True)\n",
              ")"
            ]
          },
          "metadata": {},
          "execution_count": 62
        }
      ]
    },
    {
      "cell_type": "code",
      "source": [
        "# Loss function optimizer\n",
        "criterion = nn.CrossEntropyLoss()\n",
        "optimizer = torch.optim.Adam(Model.parameters(), lr=0.001)"
      ],
      "metadata": {
        "id": "lTW4JwaGEhi2"
      },
      "execution_count": 63,
      "outputs": []
    },
    {
      "cell_type": "code",
      "source": [
        "import time\n",
        "start_time = time.time()\n",
        "\n",
        "epochs = 5\n",
        "train_losses = []\n",
        "test_losses = []\n",
        "train_correct = []\n",
        "test_correct = []\n",
        "\n",
        "for i in range(epochs):\n",
        "\n",
        "  train_corr = 0\n",
        "  test_corr = 0\n",
        "\n",
        "  # train\n",
        "  for b,(X_train, y_train) in enumerate(train_loader):\n",
        "    b+=1\n",
        "    y_pred = Model(X_train)\n",
        "    loss = criterion(y_pred, y_train)\n",
        "\n",
        "    predicted = torch.max(y_pred.data, 1)[1]\n",
        "    batch_correct = (predicted == y_train).sum()\n",
        "    train_corr += batch_correct\n",
        "\n",
        "    # update our parameters\n",
        "    optimizer.zero_grad()\n",
        "    loss.backward()\n",
        "    optimizer.step()\n",
        "\n",
        "    # printing training res\n",
        "    if b%500 == 0:\n",
        "      print(f'Epoch: {i} \\n Batch: {b} \\n Loss: {loss.item()}')\n",
        "\n",
        "  train_losses.append(loss)\n",
        "  train_correct.append(train_corr)\n",
        "\n",
        "  # test\n",
        "  with torch.no_grad():\n",
        "    for b,(X_test, y_test) in enumerate(test_loader):\n",
        "      y_val = Model(X_test)\n",
        "      predicted = torch.max(y_val.data, 1)[1]\n",
        "      test_corr += (predicted == y_test).sum()\n",
        "\n",
        "  loss = criterion(y_val, y_test)\n",
        "  test_losses.append(loss)\n",
        "  test_correct.append(test_corr)\n",
        "\n",
        "current_time = time.time()\n",
        "total_time = current_time - start_time\n",
        "print(f'training took: {total_time/60} minutes')"
      ],
      "metadata": {
        "colab": {
          "base_uri": "https://localhost:8080/"
        },
        "id": "bB0qm5C5LLS9",
        "outputId": "e0c99e9d-6e42-4592-bfc0-975965b76e6e"
      },
      "execution_count": 64,
      "outputs": [
        {
          "output_type": "stream",
          "name": "stdout",
          "text": [
            "Epoch: 0 \n",
            " Batch: 500 \n",
            " Loss: 0.33633095026016235\n",
            "Epoch: 0 \n",
            " Batch: 1000 \n",
            " Loss: 0.5349848866462708\n",
            "Epoch: 0 \n",
            " Batch: 1500 \n",
            " Loss: 0.055179618299007416\n",
            "Epoch: 0 \n",
            " Batch: 2000 \n",
            " Loss: 0.5566567182540894\n",
            "Epoch: 0 \n",
            " Batch: 2500 \n",
            " Loss: 0.09642040729522705\n",
            "Epoch: 0 \n",
            " Batch: 3000 \n",
            " Loss: 0.007758188061416149\n",
            "Epoch: 0 \n",
            " Batch: 3500 \n",
            " Loss: 0.004284966737031937\n",
            "Epoch: 0 \n",
            " Batch: 4000 \n",
            " Loss: 0.01960762031376362\n",
            "Epoch: 0 \n",
            " Batch: 4500 \n",
            " Loss: 0.0008029189775697887\n",
            "Epoch: 0 \n",
            " Batch: 5000 \n",
            " Loss: 0.04208856448531151\n",
            "Epoch: 0 \n",
            " Batch: 5500 \n",
            " Loss: 0.0018098928267136216\n",
            "Epoch: 0 \n",
            " Batch: 6000 \n",
            " Loss: 0.00038789428072050214\n",
            "Epoch: 1 \n",
            " Batch: 500 \n",
            " Loss: 0.00829227827489376\n",
            "Epoch: 1 \n",
            " Batch: 1000 \n",
            " Loss: 0.012146287597715855\n",
            "Epoch: 1 \n",
            " Batch: 1500 \n",
            " Loss: 0.017537157982587814\n",
            "Epoch: 1 \n",
            " Batch: 2000 \n",
            " Loss: 0.0019016513833776116\n",
            "Epoch: 1 \n",
            " Batch: 2500 \n",
            " Loss: 0.0057013072073459625\n",
            "Epoch: 1 \n",
            " Batch: 3000 \n",
            " Loss: 0.0332382395863533\n",
            "Epoch: 1 \n",
            " Batch: 3500 \n",
            " Loss: 0.0017011186573654413\n",
            "Epoch: 1 \n",
            " Batch: 4000 \n",
            " Loss: 0.05203569680452347\n",
            "Epoch: 1 \n",
            " Batch: 4500 \n",
            " Loss: 0.11577753722667694\n",
            "Epoch: 1 \n",
            " Batch: 5000 \n",
            " Loss: 0.008827468380331993\n",
            "Epoch: 1 \n",
            " Batch: 5500 \n",
            " Loss: 0.0017221421003341675\n",
            "Epoch: 1 \n",
            " Batch: 6000 \n",
            " Loss: 0.14201366901397705\n",
            "Epoch: 2 \n",
            " Batch: 500 \n",
            " Loss: 0.008383275009691715\n",
            "Epoch: 2 \n",
            " Batch: 1000 \n",
            " Loss: 0.0003675628686323762\n",
            "Epoch: 2 \n",
            " Batch: 1500 \n",
            " Loss: 0.03829234838485718\n",
            "Epoch: 2 \n",
            " Batch: 2000 \n",
            " Loss: 0.0032195281237363815\n",
            "Epoch: 2 \n",
            " Batch: 2500 \n",
            " Loss: 0.002597618382424116\n",
            "Epoch: 2 \n",
            " Batch: 3000 \n",
            " Loss: 0.008078320883214474\n",
            "Epoch: 2 \n",
            " Batch: 3500 \n",
            " Loss: 0.4826599061489105\n",
            "Epoch: 2 \n",
            " Batch: 4000 \n",
            " Loss: 0.004668953828513622\n",
            "Epoch: 2 \n",
            " Batch: 4500 \n",
            " Loss: 0.0013848241651430726\n",
            "Epoch: 2 \n",
            " Batch: 5000 \n",
            " Loss: 0.0052436357364058495\n",
            "Epoch: 2 \n",
            " Batch: 5500 \n",
            " Loss: 0.0012035723775625229\n",
            "Epoch: 2 \n",
            " Batch: 6000 \n",
            " Loss: 0.2449204921722412\n",
            "Epoch: 3 \n",
            " Batch: 500 \n",
            " Loss: 8.810721919871867e-05\n",
            "Epoch: 3 \n",
            " Batch: 1000 \n",
            " Loss: 0.002420456614345312\n",
            "Epoch: 3 \n",
            " Batch: 1500 \n",
            " Loss: 0.001114755286835134\n",
            "Epoch: 3 \n",
            " Batch: 2000 \n",
            " Loss: 0.0001249374618055299\n",
            "Epoch: 3 \n",
            " Batch: 2500 \n",
            " Loss: 0.00010281025606673211\n",
            "Epoch: 3 \n",
            " Batch: 3000 \n",
            " Loss: 0.0031431831885129213\n",
            "Epoch: 3 \n",
            " Batch: 3500 \n",
            " Loss: 0.000307438982417807\n",
            "Epoch: 3 \n",
            " Batch: 4000 \n",
            " Loss: 0.002649243688210845\n",
            "Epoch: 3 \n",
            " Batch: 4500 \n",
            " Loss: 0.00185534474439919\n",
            "Epoch: 3 \n",
            " Batch: 5000 \n",
            " Loss: 0.0002891890180762857\n",
            "Epoch: 3 \n",
            " Batch: 5500 \n",
            " Loss: 0.0020891004242002964\n",
            "Epoch: 3 \n",
            " Batch: 6000 \n",
            " Loss: 0.0808732658624649\n",
            "Epoch: 4 \n",
            " Batch: 500 \n",
            " Loss: 0.002050828654319048\n",
            "Epoch: 4 \n",
            " Batch: 1000 \n",
            " Loss: 0.0005264768842607737\n",
            "Epoch: 4 \n",
            " Batch: 1500 \n",
            " Loss: 3.340022885822691e-05\n",
            "Epoch: 4 \n",
            " Batch: 2000 \n",
            " Loss: 0.013100449927151203\n",
            "Epoch: 4 \n",
            " Batch: 2500 \n",
            " Loss: 0.12920889258384705\n",
            "Epoch: 4 \n",
            " Batch: 3000 \n",
            " Loss: 0.0024396399967372417\n",
            "Epoch: 4 \n",
            " Batch: 3500 \n",
            " Loss: 0.005651670973747969\n",
            "Epoch: 4 \n",
            " Batch: 4000 \n",
            " Loss: 0.3114553689956665\n",
            "Epoch: 4 \n",
            " Batch: 4500 \n",
            " Loss: 0.06296271085739136\n",
            "Epoch: 4 \n",
            " Batch: 5000 \n",
            " Loss: 0.019827699288725853\n",
            "Epoch: 4 \n",
            " Batch: 5500 \n",
            " Loss: 0.022060604766011238\n",
            "Epoch: 4 \n",
            " Batch: 6000 \n",
            " Loss: 0.0027098222635686398\n",
            "training took: 3.4161325216293337 minutes\n"
          ]
        }
      ]
    },
    {
      "cell_type": "code",
      "source": [
        "train_losses = [tl.item() for tl in train_losses]\n",
        "\n",
        "plt.plot(train_losses)\n",
        "plt.plot(test_losses)"
      ],
      "metadata": {
        "colab": {
          "base_uri": "https://localhost:8080/",
          "height": 447
        },
        "id": "NvItHz8_Txbc",
        "outputId": "b75b4e7b-c6b0-4afb-8144-80a474bd5052"
      },
      "execution_count": 66,
      "outputs": [
        {
          "output_type": "execute_result",
          "data": {
            "text/plain": [
              "[<matplotlib.lines.Line2D at 0x7aa91479c400>]"
            ]
          },
          "metadata": {},
          "execution_count": 66
        },
        {
          "output_type": "display_data",
          "data": {
            "text/plain": [
              "<Figure size 640x480 with 1 Axes>"
            ],
            "image/png": "[encoded data removed]"
          },
          "metadata": {}
        }
      ]
    }
  ]
}