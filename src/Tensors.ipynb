{
  "nbformat": 4,
  "nbformat_minor": 0,
  "metadata": {
    "colab": {
      "provenance": [],
      "gpuType": "T4",
      "authorship_tag": "ABX9TyPwLm44qthoEOEA1CcDdmv2",
      "include_colab_link": true
    },
    "kernelspec": {
      "name": "python3",
      "display_name": "Python 3"
    },
    "language_info": {
      "name": "python"
    },
    "accelerator": "GPU"
  },
  "cells": [
    {
      "cell_type": "markdown",
      "metadata": {
        "id": "view-in-github",
        "colab_type": "text"
      },
      "source": [
        "<a href=\"https://colab.research.google.com/github/Hctor11/pytorch-for-deep-learning/blob/main/src/Tensors.ipynb\" target=\"_parent\"><img src=\"https://colab.research.google.com/assets/colab-badge.svg\" alt=\"Open In Colab\"/></a>"
      ]
    },
    {
      "cell_type": "markdown",
      "source": [
        "# Tensors\n",
        "\n",
        "A torch tensor is a multi-dimensional matrix containing elements of a single data type. They are similar to numpy arrays but with the differencte that they work better with gpus.\n",
        "\n",
        "Their default data type is float32 and they are more suitable for deep learning than numpy arrays."
      ],
      "metadata": {
        "id": "VKVddz02pnRX"
      }
    },
    {
      "cell_type": "code",
      "execution_count": 1,
      "metadata": {
        "id": "AdpZ_ZTxpUpZ"
      },
      "outputs": [],
      "source": [
        "import torch\n",
        "import numpy as np"
      ]
    },
    {
      "cell_type": "markdown",
      "source": [
        "# Comparasion between numpy arrs and Tensors"
      ],
      "metadata": {
        "id": "dHwyf8nfqm8V"
      }
    },
    {
      "cell_type": "code",
      "source": [
        "np1 = np.random.rand(3,4)\n",
        "np1"
      ],
      "metadata": {
        "colab": {
          "base_uri": "https://localhost:8080/"
        },
        "id": "Y1EI4OHtqrum",
        "outputId": "3b5331c0-93e0-4ce7-e683-1f99941bf704"
      },
      "execution_count": 3,
      "outputs": [
        {
          "output_type": "execute_result",
          "data": {
            "text/plain": [
              "array([[0.32292394, 0.80685216, 0.96738636, 0.3022766 ],\n",
              "       [0.30844929, 0.77830302, 0.12599373, 0.53224515],\n",
              "       [0.80916566, 0.22824741, 0.13671357, 0.6250285 ]])"
            ]
          },
          "metadata": {},
          "execution_count": 3
        }
      ]
    },
    {
      "cell_type": "code",
      "source": [
        "tensor_2d = torch.randn(3,4)\n",
        "tensor_2d"
      ],
      "metadata": {
        "colab": {
          "base_uri": "https://localhost:8080/"
        },
        "id": "qY7iRIdFrFgs",
        "outputId": "182536e0-985a-45f4-c83f-5b3ce5fac840"
      },
      "execution_count": 4,
      "outputs": [
        {
          "output_type": "execute_result",
          "data": {
            "text/plain": [
              "tensor([[ 1.5150,  0.0560,  0.6421,  1.3687],\n",
              "        [ 0.3140, -0.2438,  2.0371,  0.1641],\n",
              "        [ 0.1117,  0.8020, -0.8901,  0.6484]])"
            ]
          },
          "metadata": {},
          "execution_count": 4
        }
      ]
    },
    {
      "cell_type": "code",
      "source": [
        "tensor_3d = torch.zeros(2,3,4)\n",
        "tensor_3d"
      ],
      "metadata": {
        "colab": {
          "base_uri": "https://localhost:8080/"
        },
        "id": "LC4Vn8HMrQow",
        "outputId": "ff6505dd-132c-4196-bd1a-8bc968ca6ad9"
      },
      "execution_count": 5,
      "outputs": [
        {
          "output_type": "execute_result",
          "data": {
            "text/plain": [
              "tensor([[[0., 0., 0., 0.],\n",
              "         [0., 0., 0., 0.],\n",
              "         [0., 0., 0., 0.]],\n",
              "\n",
              "        [[0., 0., 0., 0.],\n",
              "         [0., 0., 0., 0.],\n",
              "         [0., 0., 0., 0.]]])"
            ]
          },
          "metadata": {},
          "execution_count": 5
        }
      ]
    },
    {
      "cell_type": "code",
      "source": [
        "# Create tensor out of numpy arr\n",
        "my_tensor = torch.tensor(np1)\n",
        "my_tensor"
      ],
      "metadata": {
        "colab": {
          "base_uri": "https://localhost:8080/"
        },
        "id": "BHDmNd2mrewz",
        "outputId": "5bed7ebe-c37c-4627-eb1e-ef440f175ed2"
      },
      "execution_count": 6,
      "outputs": [
        {
          "output_type": "execute_result",
          "data": {
            "text/plain": [
              "tensor([[0.3229, 0.8069, 0.9674, 0.3023],\n",
              "        [0.3084, 0.7783, 0.1260, 0.5322],\n",
              "        [0.8092, 0.2282, 0.1367, 0.6250]], dtype=torch.float64)"
            ]
          },
          "metadata": {},
          "execution_count": 6
        }
      ]
    }
  ]
}